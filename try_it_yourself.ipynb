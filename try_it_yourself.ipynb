{
 "metadata": {
  "language_info": {
   "codemirror_mode": {
    "name": "ipython",
    "version": 3
   },
   "file_extension": ".py",
   "mimetype": "text/x-python",
   "name": "python",
   "nbconvert_exporter": "python",
   "pygments_lexer": "ipython3",
   "version": "3.8.2"
  },
  "orig_nbformat": 2,
  "kernelspec": {
   "name": "python382jvsc74a57bd001e4a4ef43d7435a6845fd7336130797196ba9e9ad58f05806271349b7c58ab1",
   "display_name": "Python 3.8.2 64-bit"
  },
  "metadata": {
   "interpreter": {
    "hash": "01e4a4ef43d7435a6845fd7336130797196ba9e9ad58f05806271349b7c58ab1"
   }
  }
 },
 "nbformat": 4,
 "nbformat_minor": 2,
 "cells": [
  {
   "cell_type": "code",
   "execution_count": 4,
   "metadata": {},
   "outputs": [
    {
     "output_type": "stream",
     "name": "stdout",
     "text": [
      "Learning Python from Python Crash Course by Eric Matthes\nPythonP1.ipynb is part 1 which includes Variables and Data Types, Introducing Lists, Working with Lists and If Statements\nPythonP2.ipynb is part 2 which includes Dictionaries, User Input and While Loops and Function\nPythonP3.ipynb is part 3 which include OOP i.e. Classes\ntry_it_yourse;f.ipynb is all the exercise from PythonP1.ipynb\ntry_it_yourself_P2.ipynb is all the exercise from PythonP2.ipynb\ntry_it_yourself_P3.ipynb is all the exercise from PythonP3.ipynb\n.py files are imported in PythonP3.ipynb and try_it_yourself_P3.ipynb\nLearning Python from Python Crash Course by Eric Matthes\nPythonP1.ipynb is part 1 which includes Variables and Data Types, Introducing Lists, Working with Lists and If Statements\nPythonP2.ipynb is part 2 which includes Dictionaries, User Input and While Loops and Function\nPythonP3.ipynb is part 3 which include OOP i.e. Classes\ntry_it_yourse;f.ipynb is all the exercise from PythonP1.ipynb\ntry_it_yourself_P2.ipynb is all the exercise from PythonP2.ipynb\ntry_it_yourself_P3.ipynb is all the exercise from PythonP3.ipynb\n.py files are imported in PythonP3.ipynb and try_it_yourself_P3.ipynb\nLearning Python from Python Crash Course by Eric Matthes\nPythonP1.ipynb is part 1 which includes Variables and Data Types, Introducing Lists, Working with Lists and If Statements\nPythonP2.ipynb is part 2 which includes Dictionaries, User Input and While Loops and Function\nPythonP3.ipynb is part 3 which include OOP i.e. Classes\ntry_it_yourse;f.ipynb is all the exercise from PythonP1.ipynb\ntry_it_yourself_P2.ipynb is all the exercise from PythonP2.ipynb\ntry_it_yourself_P3.ipynb is all the exercise from PythonP3.ipynb\n.py files are imported in PythonP3.ipynb and try_it_yourself_P3.ipynb\n"
     ]
    }
   ],
   "source": [
    "# 10-1. Learning Python:\n",
    "\n",
    "with open('learning_python.txt') as f_obj:\n",
    "    content=f_obj.read()\n",
    "\n",
    "print(content)\n",
    "print(content)\n",
    "print(content)"
   ]
  },
  {
   "cell_type": "code",
   "execution_count": 6,
   "metadata": {},
   "outputs": [
    {
     "output_type": "stream",
     "name": "stdout",
     "text": [
      "Learning Python from Python Crash Course by Eric Matthes\n\nPythonP1.ipynb is part 1 which includes Variables and Data Types, Introducing Lists, Working with Lists and If Statements\n\nPythonP2.ipynb is part 2 which includes Dictionaries, User Input and While Loops and Function\n\nPythonP3.ipynb is part 3 which include OOP i.e. Classes\n\ntry_it_yourse;f.ipynb is all the exercise from PythonP1.ipynb\n\ntry_it_yourself_P2.ipynb is all the exercise from PythonP2.ipynb\n\ntry_it_yourself_P3.ipynb is all the exercise from PythonP3.ipynb\n\n.py files are imported in PythonP3.ipynb and try_it_yourself_P3.ipynb\n"
     ]
    }
   ],
   "source": [
    "with open('learning_python.txt') as f_obj:\n",
    "    for line in f_obj:\n",
    "        print(line)"
   ]
  },
  {
   "cell_type": "code",
   "execution_count": 5,
   "metadata": {},
   "outputs": [
    {
     "output_type": "stream",
     "name": "stdout",
     "text": [
      "Learning Python from Python Crash Course by Eric Matthes\n\nPythonP1.ipynb is part 1 which includes Variables and Data Types, Introducing Lists, Working with Lists and If Statements\n\nPythonP2.ipynb is part 2 which includes Dictionaries, User Input and While Loops and Function\n\nPythonP3.ipynb is part 3 which include OOP i.e. Classes\n\ntry_it_yourse;f.ipynb is all the exercise from PythonP1.ipynb\n\ntry_it_yourself_P2.ipynb is all the exercise from PythonP2.ipynb\n\ntry_it_yourself_P3.ipynb is all the exercise from PythonP3.ipynb\n\n.py files are imported in PythonP3.ipynb and try_it_yourself_P3.ipynb\n"
     ]
    }
   ],
   "source": [
    "with open('learning_python.txt') as f_obj:\n",
    "    lines=f_obj.readlines()\n",
    "for line in lines:\n",
    "    print(line)"
   ]
  },
  {
   "cell_type": "code",
   "execution_count": 22,
   "metadata": {},
   "outputs": [
    {
     "output_type": "stream",
     "name": "stdout",
     "text": [
      "Learning C from C Crash Course by Eric Matthes\n\nCP1.ipynb is part 1 which includes Variables and Data Types, Introducing Lists, Working with Lists and If Statements\n\nCP2.ipynb is part 2 which includes Dictionaries, User Input and While Loops and Function\n\nCP3.ipynb is part 3 which include OOP i.e. Classes\n\ntry_it_yourse;f.ipynb is all the exercise from CP1.ipynb\n\ntry_it_yourself_P2.ipynb is all the exercise from CP2.ipynb\n\ntry_it_yourself_P3.ipynb is all the exercise from CP3.ipynb\n\n.py files are imported in CP3.ipynb and try_it_yourself_P3.ipynb\n"
     ]
    }
   ],
   "source": [
    "#10-2. Learning C:\n",
    "with open('learning_python.txt') as f_obj:\n",
    "    for line in f_obj:\n",
    "        line.replace('Python','c')\n",
    "        print(line.replace('Python','C'))"
   ]
  },
  {
   "cell_type": "code",
   "execution_count": 23,
   "metadata": {},
   "outputs": [],
   "source": [
    "#10-3. GUest:\n",
    "with open('guest.txt','w') as f_obj:\n",
    "    name=input(\"Enter your name:\")\n",
    "    f_obj.write(name)"
   ]
  },
  {
   "cell_type": "code",
   "execution_count": 7,
   "metadata": {
    "tags": []
   },
   "outputs": [
    {
     "output_type": "stream",
     "name": "stdout",
     "text": [
      "Enter q to quit.\n",
      "Hello, Aayush Raut!\n",
      "Enter q to quit.\n",
      "Hello, Prasmit Neupane!\n",
      "Enter q to quit.\n",
      "Hello, Rabindra Baisnab!\n",
      "Enter q to quit.\n"
     ]
    }
   ],
   "source": [
    "#10-4. Guest Book:\n",
    "while True:\n",
    "    with open('guest.txt','a') as f_obj:\n",
    "        print(\"Enter q to quit.\")\n",
    "        name=input(\"Enter your name:\")\n",
    "        if name ==\"q\":\n",
    "            break\n",
    "        f_obj.write(name+\"\\n\")\n",
    "        print(\"Hello, \"+name+\"!\")\n",
    "        "
   ]
  },
  {
   "cell_type": "code",
   "execution_count": 9,
   "metadata": {},
   "outputs": [
    {
     "output_type": "stream",
     "name": "stdout",
     "text": [
      "Enter q to quit.\n",
      "Enter q to quit.\n",
      "Enter q to quit.\n",
      "Enter q to quit.\n"
     ]
    }
   ],
   "source": [
    "#10-5 Programming Poll:\n",
    "while True:\n",
    "    with open('response.txt','a') as f_obj:\n",
    "        print(\"Enter q to quit.\")\n",
    "        response=input(\"Why u love programming?\")\n",
    "        if response ==\"q\":\n",
    "            break\n",
    "        f_obj.write(response+\"\\n\")"
   ]
  },
  {
   "cell_type": "code",
   "execution_count": 25,
   "metadata": {},
   "outputs": [
    {
     "output_type": "stream",
     "name": "stdout",
     "text": [
      "you didnt enter a number\n"
     ]
    }
   ],
   "source": [
    "# 10-6. Addition:\n",
    "#num1=input(\"Enter Num1\")\n",
    "#num2=input(\"Enter Num2\")\n",
    "try:\n",
    "    num1=int(input(\"Enter Num1\"))\n",
    "    num2=int(input(\"Enter Num2\"))\n",
    "    \n",
    "except ValueError:\n",
    "    print(\"you didnt enter a number\")\n",
    "else:\n",
    "    add=num1+num2\n",
    "    print(add)\n"
   ]
  },
  {
   "cell_type": "code",
   "execution_count": 1,
   "metadata": {},
   "outputs": [
    {
     "output_type": "stream",
     "name": "stdout",
     "text": [
      "Enter q to quit:\n",
      "25\n",
      "Enter q to quit:\n"
     ]
    }
   ],
   "source": [
    "#10-7. Addition Calculator:\n",
    "while True:\n",
    "    try:\n",
    "        num1=int(input(\"Enter Num1\"))\n",
    "        num2=int(input(\"Enter Num2\"))\n",
    "    \n",
    "    except ValueError:\n",
    "     print(\"you didnt enter a number\")\n",
    "    else:\n",
    "        decision= input(\"Do you want to continue?(y/n)\")\n",
    "        if decision=='n':\n",
    "            break\n",
    "        add=num1+num2\n",
    "        print(add)"
   ]
  },
  {
   "cell_type": "code",
   "execution_count": 7,
   "metadata": {},
   "outputs": [
    {
     "output_type": "stream",
     "name": "stdout",
     "text": [
      "Bella\nlilly\nmolly\nmax\nlucy\nluna\n"
     ]
    }
   ],
   "source": [
    "#10-8. Cats and Dogs:\n",
    "def read_file(filename):\n",
    "    try:\n",
    "        with open(filename) as f_obj:\n",
    "            content=f_obj.read()\n",
    "            print(content)\n",
    "    except FileNotFoundError:\n",
    "        print(filename+\" doesn't exists\")\n",
    "\n",
    "read_file('cat.txt')\n",
    "read_file('A:\\practice\\python\\dogs.txt')\n"
   ]
  },
  {
   "cell_type": "code",
   "execution_count": 8,
   "metadata": {},
   "outputs": [
    {
     "output_type": "stream",
     "name": "stdout",
     "text": [
      "Bella\nlilly\nmolly\n"
     ]
    }
   ],
   "source": [
    "# 10-8. Silent Cats and Dogs:\n",
    "def read_file(filename):\n",
    "    try:\n",
    "        with open(filename) as f_obj:\n",
    "            content=f_obj.read()\n",
    "            print(content)\n",
    "    except FileNotFoundError:\n",
    "        pass\n",
    "\n",
    "read_file('cat.txt')\n",
    "read_file('dogs.txt')"
   ]
  },
  {
   "cell_type": "code",
   "execution_count": 19,
   "metadata": {},
   "outputs": [
    {
     "output_type": "stream",
     "name": "stdout",
     "text": [
      "2505\n"
     ]
    }
   ],
   "source": [
    "#10-10. Common Words:\n",
    "\n",
    "with open('alice.txt') as f_obj:\n",
    "    lines=f_obj.read()\n",
    "    print(lines.lower().count('the'))"
   ]
  },
  {
   "cell_type": "code",
   "execution_count": 20,
   "metadata": {},
   "outputs": [],
   "source": [
    "#10-11. Favorite Number:\n",
    "import json\n",
    "\n",
    "with open('favorite_num.txt','w') as f_obj:\n",
    "    num=input(\"Enter ur fav number:\")\n",
    "    json.dump(num,f_obj)"
   ]
  },
  {
   "cell_type": "code",
   "execution_count": 23,
   "metadata": {},
   "outputs": [
    {
     "output_type": "stream",
     "name": "stdout",
     "text": [
      "I know your favorite number! It's 12\n"
     ]
    }
   ],
   "source": [
    "# 10-11 part 2\n",
    "with open('favorite_num.json') as f_obj:\n",
    "    num=json.load(f_obj)\n",
    "    print(\"I know your favorite number! It's \"+num)"
   ]
  },
  {
   "cell_type": "code",
   "execution_count": 31,
   "metadata": {},
   "outputs": [
    {
     "output_type": "stream",
     "name": "stdout",
     "text": [
      "I know your favorite number! It's 4\n"
     ]
    }
   ],
   "source": [
    "# 10-12. Favorite Number Remembered:\n",
    "def store_num(filename):\n",
    "        with open(filename,'w') as f_obj:\n",
    "            num=input(\"Enter ur fav number:\")\n",
    "            json.dump(num,f_obj)\n",
    "    \n",
    "\n",
    "def create_file():\n",
    "    with open('favorite_num.json','w') as f_obj:\n",
    "        num=input(\"Enter ur fav number:\")\n",
    "        json.dump(num,f_obj)\n",
    "\n",
    "def read_num(filename):\n",
    "    try:\n",
    "        with open(filename,) as f_obj:\n",
    "            num=json.load(f_obj)\n",
    "    except FileNotFoundError:\n",
    "        create_file()\n",
    "    else:\n",
    "        print(\"I know your favorite number! It's \"+num)\n",
    "filename1='favorite_num.json'\n",
    "store_num(filename1)\n",
    "read_num(filename1)"
   ]
  },
  {
   "cell_type": "code",
   "execution_count": 35,
   "metadata": {},
   "outputs": [],
   "source": [
    "import json\n",
    "\n",
    "def get_stored_username():\n",
    "    \"\"\"Get stored usesrname if available\"\"\"\n",
    "    filename=\"username.json\"\n",
    "    try:\n",
    "        with open(filename) as f_obj:\n",
    "            username=json.load(f_obj)\n",
    "    except FileNotFoundError:\n",
    "        return None\n",
    "    else:\n",
    "        return username\n",
    "\n",
    "def get_new_username():\n",
    "    \"\"\"Prompt for a new username.\"\"\"\n",
    "    username=input(\"What is your name?\")\n",
    "    filename='username.json'\n",
    "    with open(filename,'w') as f_obj:\n",
    "        json.dump(username,f_obj)\n",
    "    \n",
    "    return username\n",
    "\n",
    "def greet_user():\n",
    "    \"\"\"Greet the user by name.\"\"\"\n",
    "    username=get_stored_username()\n",
    "    if username:\n",
    "        check=input(\"Is \"+username+\" your username?(y/n)\")\n",
    "        if check.lower() == 'n':\n",
    "            username=get_new_username()\n",
    "            print(\"We'll remeber you when you come back, \"+ username+\"!\")\n",
    "        else:\n",
    "            print(\"Welcome back, \"+ username+\"!\")\n",
    "    else:\n",
    "        username=get_new_username()\n",
    "        print(\"We'll remeber you when you come back, \"+ username+\"!\")\n",
    "\n",
    "greet_user()"
   ]
  },
  {
   "cell_type": "code",
   "execution_count": null,
   "metadata": {},
   "outputs": [],
   "source": []
  }
 ]
}