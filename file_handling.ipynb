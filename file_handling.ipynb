{
 "metadata": {
  "language_info": {
   "codemirror_mode": {
    "name": "ipython",
    "version": 3
   },
   "file_extension": ".py",
   "mimetype": "text/x-python",
   "name": "python",
   "nbconvert_exporter": "python",
   "pygments_lexer": "ipython3",
   "version": "3.8.2"
  },
  "orig_nbformat": 2,
  "kernelspec": {
   "name": "python382jvsc74a57bd001e4a4ef43d7435a6845fd7336130797196ba9e9ad58f05806271349b7c58ab1",
   "display_name": "Python 3.8.2 64-bit"
  },
  "metadata": {
   "interpreter": {
    "hash": "01e4a4ef43d7435a6845fd7336130797196ba9e9ad58f05806271349b7c58ab1"
   }
  }
 },
 "nbformat": 4,
 "nbformat_minor": 2,
 "cells": [
  {
   "cell_type": "code",
   "execution_count": 8,
   "metadata": {},
   "outputs": [
    {
     "output_type": "stream",
     "name": "stdout",
     "text": [
      "3.1415926535\n  8979323846   \n  2643383279\n"
     ]
    }
   ],
   "source": [
    "# file_reader.py\n",
    "with open('pi_digits.txt') as file_object:\n",
    "    contents=file_object.read()\n",
    "    print(contents)\n",
    "\n",
    "# open() fucntion needs one argument: the name of the fule we want to open\n",
    "# python looks for this file in the directory where the program that's currently being executed is stored.\n",
    "# here python looks for pi_digits.txt \n",
    "# open() function return the object represeting the file\n",
    "# here open('pi_digits.txt') return the object representing pi_digits.txt. Python stores this object in file_object\n",
    "\n",
    "# we can open and close file by using open() and close() fucntion\n",
    "# once we open the file we used read() method in second line of our program to read the entire contents of the file and store it as one long string in contents\n",
    "\n",
    "# the only difference between this output and original file is the exta blank line at the end of output. \n",
    "# the black line appears because read() return an empty string when t reaches the end of the file\n",
    "# this empty space shows up as blank line"
   ]
  },
  {
   "cell_type": "code",
   "execution_count": 9,
   "metadata": {},
   "outputs": [
    {
     "output_type": "stream",
     "name": "stdout",
     "text": [
      "3.1415926535\n  8979323846   \n  2643383279\n"
     ]
    }
   ],
   "source": [
    "with open('pi_digits.txt') as file_object:\n",
    "    contents=file_object.read()\n",
    "    print(contents.rstrip())\n",
    "\n",
    "# here rstrip is used to remove the blank space from the right side of a string."
   ]
  },
  {
   "cell_type": "code",
   "execution_count": 10,
   "metadata": {},
   "outputs": [
    {
     "output_type": "error",
     "ename": "SyntaxError",
     "evalue": "unexpected EOF while parsing (<ipython-input-10-93000b510ba2>, line 4)",
     "traceback": [
      "\u001b[1;36m  File \u001b[1;32m\"<ipython-input-10-93000b510ba2>\"\u001b[1;36m, line \u001b[1;32m4\u001b[0m\n\u001b[1;33m    with open('text_files\\filename.txt') as file_object:\u001b[0m\n\u001b[1;37m                                                        ^\u001b[0m\n\u001b[1;31mSyntaxError\u001b[0m\u001b[1;31m:\u001b[0m unexpected EOF while parsing\n"
     ]
    }
   ],
   "source": [
    "# file path\n",
    "\n",
    "# to open the file of other directory the we provide file path as\n",
    "with open('text_files\\filename.txt') as file_object:\n",
    "\n",
    "# we can also write this as \n",
    "file_path='C:\\Users\\iush\\other_files\\text_files\\filename.txt'with open(file_path) as file_object:"
   ]
  },
  {
   "cell_type": "code",
   "execution_count": 11,
   "metadata": {},
   "outputs": [
    {
     "output_type": "stream",
     "name": "stdout",
     "text": [
      "3.1415926535\n\n  8979323846   \n\n  2643383279\n"
     ]
    }
   ],
   "source": [
    "# Reading line by line\n",
    "\n",
    "filename='pi_digits.txt'\n",
    "\n",
    "with open(filename) as file_object:\n",
    "    for line in file_object:\n",
    "        print(line)\n",
    "\n",
    "# here we open pi_digits.txt and loop through the file to print each line\n",
    "\n",
    "# the blank lines appear because an invisible newline character is at the end of each line on the text file\n",
    "# the print statement adds it own newline each time we call it ,so we end up with two newline character at the end of each line\n",
    "# we can use rstrip() function to remove the blank line"
   ]
  },
  {
   "cell_type": "code",
   "execution_count": 12,
   "metadata": {},
   "outputs": [
    {
     "output_type": "stream",
     "name": "stdout",
     "text": [
      "3.1415926535\n  8979323846\n  2643383279\n"
     ]
    }
   ],
   "source": [
    "# making a list of lines from a file\n",
    "\n",
    "filename='pi_digits.txt'\n",
    "\n",
    "with open(filename) as file_object:\n",
    "    lines = file_object.readlines()\n",
    "\n",
    "for line in lines:\n",
    "    print(line.rstrip())\n",
    "\n",
    "# readlines() method takes each line from the file and stores it in a list. This list is then stored in lines"
   ]
  },
  {
   "cell_type": "code",
   "execution_count": 14,
   "metadata": {},
   "outputs": [
    {
     "output_type": "stream",
     "name": "stdout",
     "text": [
      "3.1415926535  8979323846  2643383279\n36\n"
     ]
    }
   ],
   "source": [
    "# working with a file's contents\n",
    "\n",
    "filename='pi_digits.txt'\n",
    "\n",
    "with open(filename) as file_object:\n",
    "    lines=file_object.readlines()\n",
    "\n",
    "pi_string=''\n",
    "for line in lines:\n",
    "    pi_string+=line.rstrip()\n",
    "\n",
    "print(pi_string)\n",
    "print(len(pi_string))\n",
    "\n",
    "# the whitespace that was on the left side of the digits in each line\n",
    "# we can get rid of that by using strip() instead of rstrip()"
   ]
  },
  {
   "cell_type": "code",
   "execution_count": 15,
   "metadata": {},
   "outputs": [
    {
     "output_type": "stream",
     "name": "stdout",
     "text": [
      "3.141592653589793238462643383279\n32\n"
     ]
    }
   ],
   "source": [
    "filename='pi_digits.txt'\n",
    "\n",
    "with open(filename) as file_object:\n",
    "    lines=file_object.readlines()\n",
    "\n",
    "pi_string=''\n",
    "for line in lines:\n",
    "    pi_string+=line.strip()\n",
    "\n",
    "print(pi_string)\n",
    "print(len(pi_string))"
   ]
  },
  {
   "cell_type": "code",
   "execution_count": 17,
   "metadata": {},
   "outputs": [
    {
     "output_type": "stream",
     "name": "stdout",
     "text": [
      "3.14159265358979323846264338327950288419716939937510...\n1000002\n"
     ]
    }
   ],
   "source": [
    "filename='pi_million_digits.txt'\n",
    "\n",
    "with open(filename) as file_object:\n",
    "    lines=file_object.readlines()\n",
    "\n",
    "pi_string=''\n",
    "for line in lines:\n",
    "    pi_string+=line.strip()\n",
    "\n",
    "print(pi_string[:52]+'...')\n",
    "print(len(pi_string))"
   ]
  },
  {
   "cell_type": "code",
   "execution_count": 20,
   "metadata": {},
   "outputs": [
    {
     "output_type": "stream",
     "name": "stdout",
     "text": [
      "your birthday does not appear in the first million digits of pi.\n"
     ]
    }
   ],
   "source": [
    "filename='pi_digits.txt'\n",
    "\n",
    "with open(filename) as file_object:\n",
    "    lines=file_object.readlines()\n",
    "\n",
    "pi_string=''\n",
    "for line in lines:\n",
    "    pi_string+=line.strip()\n",
    "\n",
    "birthday=input(\"Enter your birthday, in the form mmddyy:\")\n",
    "if birthday in pi_string:\n",
    "    print(\"Your birthday appears in the first million digits of pi!\")\n",
    "else:\n",
    "    print(\"your birthday does not appear in the first million digits of pi.\")"
   ]
  },
  {
   "cell_type": "code",
   "execution_count": null,
   "metadata": {},
   "outputs": [],
   "source": []
  }
 ]
}