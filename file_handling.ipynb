{
 "metadata": {
  "language_info": {
   "codemirror_mode": {
    "name": "ipython",
    "version": 3
   },
   "file_extension": ".py",
   "mimetype": "text/x-python",
   "name": "python",
   "nbconvert_exporter": "python",
   "pygments_lexer": "ipython3",
   "version": "3.8.2"
  },
  "orig_nbformat": 2,
  "kernelspec": {
   "name": "python382jvsc74a57bd001e4a4ef43d7435a6845fd7336130797196ba9e9ad58f05806271349b7c58ab1",
   "display_name": "Python 3.8.2 64-bit"
  },
  "metadata": {
   "interpreter": {
    "hash": "01e4a4ef43d7435a6845fd7336130797196ba9e9ad58f05806271349b7c58ab1"
   }
  }
 },
 "nbformat": 4,
 "nbformat_minor": 2,
 "cells": [
  {
   "source": [
    "### Reading from a file"
   ],
   "cell_type": "markdown",
   "metadata": {}
  },
  {
   "cell_type": "code",
   "execution_count": 8,
   "metadata": {},
   "outputs": [
    {
     "output_type": "stream",
     "name": "stdout",
     "text": [
      "3.1415926535\n  8979323846   \n  2643383279\n"
     ]
    }
   ],
   "source": [
    "# file_reader.py\n",
    "with open('pi_digits.txt') as file_object:\n",
    "    contents=file_object.read()\n",
    "    print(contents)\n",
    "\n",
    "# open() fucntion needs one argument: the name of the fule we want to open\n",
    "# python looks for this file in the directory where the program that's currently being executed is stored.\n",
    "# here python looks for pi_digits.txt \n",
    "# open() function return the object represeting the file\n",
    "# here open('pi_digits.txt') return the object representing pi_digits.txt. Python stores this object in file_object\n",
    "\n",
    "# we can open and close file by using open() and close() fucntion\n",
    "# once we open the file we used read() method in second line of our program to read the entire contents of the file and store it as one long string in contents\n",
    "\n",
    "# the only difference between this output and original file is the exta blank line at the end of output. \n",
    "# the black line appears because read() return an empty string when t reaches the end of the file\n",
    "# this empty space shows up as blank line"
   ]
  },
  {
   "cell_type": "code",
   "execution_count": 9,
   "metadata": {},
   "outputs": [
    {
     "output_type": "stream",
     "name": "stdout",
     "text": [
      "3.1415926535\n  8979323846   \n  2643383279\n"
     ]
    }
   ],
   "source": [
    "with open('pi_digits.txt') as file_object:\n",
    "    contents=file_object.read()\n",
    "    print(contents.rstrip())\n",
    "\n",
    "# here rstrip is used to remove the blank space from the right side of a string."
   ]
  },
  {
   "cell_type": "code",
   "execution_count": 10,
   "metadata": {},
   "outputs": [
    {
     "output_type": "error",
     "ename": "SyntaxError",
     "evalue": "unexpected EOF while parsing (<ipython-input-10-93000b510ba2>, line 4)",
     "traceback": [
      "\u001b[1;36m  File \u001b[1;32m\"<ipython-input-10-93000b510ba2>\"\u001b[1;36m, line \u001b[1;32m4\u001b[0m\n\u001b[1;33m    with open('text_files\\filename.txt') as file_object:\u001b[0m\n\u001b[1;37m                                                        ^\u001b[0m\n\u001b[1;31mSyntaxError\u001b[0m\u001b[1;31m:\u001b[0m unexpected EOF while parsing\n"
     ]
    }
   ],
   "source": [
    "# file path\n",
    "\n",
    "# to open the file of other directory the we provide file path as\n",
    "with open('text_files\\filename.txt') as file_object:\n",
    "\n",
    "# we can also write this as \n",
    "file_path='C:\\Users\\iush\\other_files\\text_files\\filename.txt'with open(file_path) as file_object:"
   ]
  },
  {
   "cell_type": "code",
   "execution_count": 11,
   "metadata": {},
   "outputs": [
    {
     "output_type": "stream",
     "name": "stdout",
     "text": [
      "3.1415926535\n\n  8979323846   \n\n  2643383279\n"
     ]
    }
   ],
   "source": [
    "# Reading line by line\n",
    "\n",
    "filename='pi_digits.txt'\n",
    "\n",
    "with open(filename) as file_object:\n",
    "    for line in file_object:\n",
    "        print(line)\n",
    "\n",
    "# here we open pi_digits.txt and loop through the file to print each line\n",
    "\n",
    "# the blank lines appear because an invisible newline character is at the end of each line on the text file\n",
    "# the print statement adds it own newline each time we call it ,so we end up with two newline character at the end of each line\n",
    "# we can use rstrip() function to remove the blank line"
   ]
  },
  {
   "cell_type": "code",
   "execution_count": 12,
   "metadata": {},
   "outputs": [
    {
     "output_type": "stream",
     "name": "stdout",
     "text": [
      "3.1415926535\n  8979323846\n  2643383279\n"
     ]
    }
   ],
   "source": [
    "# making a list of lines from a file\n",
    "\n",
    "filename='pi_digits.txt'\n",
    "\n",
    "with open(filename) as file_object:\n",
    "    lines = file_object.readlines()\n",
    "\n",
    "for line in lines:\n",
    "    print(line.rstrip())\n",
    "\n",
    "# readlines() method takes each line from the file and stores it in a list. This list is then stored in lines"
   ]
  },
  {
   "cell_type": "code",
   "execution_count": 14,
   "metadata": {},
   "outputs": [
    {
     "output_type": "stream",
     "name": "stdout",
     "text": [
      "3.1415926535  8979323846  2643383279\n36\n"
     ]
    }
   ],
   "source": [
    "# working with a file's contents\n",
    "\n",
    "filename='pi_digits.txt'\n",
    "\n",
    "with open(filename) as file_object:\n",
    "    lines=file_object.readlines()\n",
    "\n",
    "pi_string=''\n",
    "for line in lines:\n",
    "    pi_string+=line.rstrip()\n",
    "\n",
    "print(pi_string)\n",
    "print(len(pi_string))\n",
    "\n",
    "# the whitespace that was on the left side of the digits in each line\n",
    "# we can get rid of that by using strip() instead of rstrip()"
   ]
  },
  {
   "cell_type": "code",
   "execution_count": 15,
   "metadata": {},
   "outputs": [
    {
     "output_type": "stream",
     "name": "stdout",
     "text": [
      "3.141592653589793238462643383279\n32\n"
     ]
    }
   ],
   "source": [
    "filename='pi_digits.txt'\n",
    "\n",
    "with open(filename) as file_object:\n",
    "    lines=file_object.readlines()\n",
    "\n",
    "pi_string=''\n",
    "for line in lines:\n",
    "    pi_string+=line.strip()\n",
    "\n",
    "print(pi_string)\n",
    "print(len(pi_string))"
   ]
  },
  {
   "cell_type": "code",
   "execution_count": 17,
   "metadata": {},
   "outputs": [
    {
     "output_type": "stream",
     "name": "stdout",
     "text": [
      "3.14159265358979323846264338327950288419716939937510...\n1000002\n"
     ]
    }
   ],
   "source": [
    "filename='pi_million_digits.txt'\n",
    "\n",
    "with open(filename) as file_object:\n",
    "    lines=file_object.readlines()\n",
    "\n",
    "pi_string=''\n",
    "for line in lines:\n",
    "    pi_string+=line.strip()\n",
    "\n",
    "print(pi_string[:52]+'...')\n",
    "print(len(pi_string))"
   ]
  },
  {
   "cell_type": "code",
   "execution_count": 20,
   "metadata": {},
   "outputs": [
    {
     "output_type": "stream",
     "name": "stdout",
     "text": [
      "your birthday does not appear in the first million digits of pi.\n"
     ]
    }
   ],
   "source": [
    "filename='pi_digits.txt'\n",
    "\n",
    "with open(filename) as file_object:\n",
    "    lines=file_object.readlines()\n",
    "\n",
    "pi_string=''\n",
    "for line in lines:\n",
    "    pi_string+=line.strip()\n",
    "\n",
    "birthday=input(\"Enter your birthday, in the form mmddyy:\")\n",
    "if birthday in pi_string:\n",
    "    print(\"Your birthday appears in the first million digits of pi!\")\n",
    "else:\n",
    "    print(\"your birthday does not appear in the first million digits of pi.\")"
   ]
  },
  {
   "source": [
    "### Writing to a File"
   ],
   "cell_type": "markdown",
   "metadata": {}
  },
  {
   "cell_type": "code",
   "execution_count": 1,
   "metadata": {},
   "outputs": [],
   "source": [
    "# Writing to an empty file\n",
    "\n",
    "#write_message.py\n",
    "\n",
    "filename='programming.txt'\n",
    "with open(filename,'w') as file_object:\n",
    "    file_object.write(\"I love programming\")\n",
    "\n",
    "# open() function has 2 agrument in above case, 1st argument is still the name of file and second argument is 'w' which tells python that we want to open the file in write mode. \n",
    "\n",
    "# we can open file is read mode 'r', write mode 'w',append mode 'a' and a mode that allows us to read and write to the file 'r+'\n",
    "\n",
    "# when we open a file in write mode, python automatically creates a file that we want to open if it doesnt exits\n",
    "# if the file exits,python will erase the file before returning the file object. \n",
    "\n"
   ]
  },
  {
   "cell_type": "code",
   "execution_count": 3,
   "metadata": {},
   "outputs": [],
   "source": [
    "# writing multiple lines\n",
    "\n",
    "filename='programming.txt'\n",
    "\n",
    "with open(filename,'w') as file_object:\n",
    "    file_object.write(\"I love creating new games.\\n\")\n",
    "    file_object.write(\"I love programming.\\n\")"
   ]
  },
  {
   "source": [
    "### Appending to a file\n",
    "\n",
    "- add content to a file instead of writing over to existing content"
   ],
   "cell_type": "markdown",
   "metadata": {}
  },
  {
   "cell_type": "code",
   "execution_count": 4,
   "metadata": {},
   "outputs": [],
   "source": [
    "filename='programming.txt'\n",
    "\n",
    "with open(filename,'a') as file_object:\n",
    "    file_object.write(\"I also love finding meaning in large datasets.\\n\")\n",
    "    file_object.write(\"I love creating apps that can run in a browser.\\n\")"
   ]
  },
  {
   "source": [
    "### Exceptions\n",
    "\n",
    "- python uses special object called exceptions to manage errors that arise during a program's execution.\n",
    "\n",
    "- whenever error accurs that make python ussure what to do next, it creates an exception object \n",
    "\n",
    "- if we write code that handles the exception, the program will continue running. If we don't handle the exception, thr program will halt and show a traceback, which includes a report of the exception that was raised."
   ],
   "cell_type": "markdown",
   "metadata": {}
  },
  {
   "source": [
    "# Handling the ZeroDivisionWrror Exception\n",
    "\n",
    "#division.py \n",
    "\n",
    "print(5/0)"
   ],
   "cell_type": "code",
   "metadata": {},
   "execution_count": 8,
   "outputs": [
    {
     "output_type": "error",
     "ename": "ZeroDivisionError",
     "evalue": "division by zero",
     "traceback": [
      "\u001b[1;31m---------------------------------------------------------------------------\u001b[0m",
      "\u001b[1;31mZeroDivisionError\u001b[0m                         Traceback (most recent call last)",
      "\u001b[1;32m<ipython-input-8-bb27d8fab01b>\u001b[0m in \u001b[0;36m<module>\u001b[1;34m\u001b[0m\n\u001b[0;32m      3\u001b[0m \u001b[1;31m#division.py\u001b[0m\u001b[1;33m\u001b[0m\u001b[1;33m\u001b[0m\u001b[1;33m\u001b[0m\u001b[0m\n\u001b[0;32m      4\u001b[0m \u001b[1;33m\u001b[0m\u001b[0m\n\u001b[1;32m----> 5\u001b[1;33m \u001b[0mprint\u001b[0m\u001b[1;33m(\u001b[0m\u001b[1;36m5\u001b[0m\u001b[1;33m/\u001b[0m\u001b[1;36m0\u001b[0m\u001b[1;33m)\u001b[0m\u001b[1;33m\u001b[0m\u001b[1;33m\u001b[0m\u001b[0m\n\u001b[0m",
      "\u001b[1;31mZeroDivisionError\u001b[0m: division by zero"
     ]
    }
   ]
  },
  {
   "cell_type": "code",
   "execution_count": 10,
   "metadata": {},
   "outputs": [
    {
     "output_type": "stream",
     "name": "stdout",
     "text": [
      "You can't divide by zero!\n"
     ]
    }
   ],
   "source": [
    "#using try-except blocks\n",
    "\n",
    "try:\n",
    "    print(5/0)\n",
    "except ZeroDivisionError:\n",
    "    print(\"You can't divide by zero!\")\n",
    "\n",
    "# we put print(5/0) in line that caused the error, inside a try block. If the code in a try blocks works, python skips over the except block. If the code in the try block causes an wrror,python looks for an exvept block whose wrror matches the ome that was raised and runs te code in that block.\n"
   ]
  },
  {
   "cell_type": "code",
   "execution_count": 11,
   "metadata": {},
   "outputs": [
    {
     "output_type": "stream",
     "name": "stdout",
     "text": [
      "Give me two numbers. and I'll divide them.\n",
      "Enter q to quit.\n",
      "2.0\n"
     ]
    },
    {
     "output_type": "error",
     "ename": "ZeroDivisionError",
     "evalue": "division by zero",
     "traceback": [
      "\u001b[1;31m---------------------------------------------------------------------------\u001b[0m",
      "\u001b[1;31mZeroDivisionError\u001b[0m                         Traceback (most recent call last)",
      "\u001b[1;32m<ipython-input-11-c7260fca2c97>\u001b[0m in \u001b[0;36m<module>\u001b[1;34m\u001b[0m\n\u001b[0;32m     14\u001b[0m         \u001b[1;32mbreak\u001b[0m\u001b[1;33m\u001b[0m\u001b[1;33m\u001b[0m\u001b[0m\n\u001b[0;32m     15\u001b[0m \u001b[1;33m\u001b[0m\u001b[0m\n\u001b[1;32m---> 16\u001b[1;33m     \u001b[0manswer\u001b[0m\u001b[1;33m=\u001b[0m\u001b[0mint\u001b[0m\u001b[1;33m(\u001b[0m\u001b[0mfirst_number\u001b[0m\u001b[1;33m)\u001b[0m\u001b[1;33m/\u001b[0m\u001b[0mint\u001b[0m\u001b[1;33m(\u001b[0m\u001b[0msecond_number\u001b[0m\u001b[1;33m)\u001b[0m\u001b[1;33m\u001b[0m\u001b[1;33m\u001b[0m\u001b[0m\n\u001b[0m\u001b[0;32m     17\u001b[0m     \u001b[0mprint\u001b[0m\u001b[1;33m(\u001b[0m\u001b[0manswer\u001b[0m\u001b[1;33m)\u001b[0m\u001b[1;33m\u001b[0m\u001b[1;33m\u001b[0m\u001b[0m\n",
      "\u001b[1;31mZeroDivisionError\u001b[0m: division by zero"
     ]
    }
   ],
   "source": [
    "# Using exveptions to prevent crashes\n",
    "#divison.py \n",
    "\n",
    "print(\"Give me two numbers. and I'll divide them.\")\n",
    "print(\"Enter q to quit.\")\n",
    "\n",
    "while True:\n",
    "    first_number=input(\"\\nFirst Number:\")\n",
    "    if first_number=='q':\n",
    "        break\n",
    "\n",
    "    second_number=input(\"\\n Second Number:\")\n",
    "    if second_number=='q':\n",
    "        break\n",
    "\n",
    "    answer=int(first_number)/int(second_number)\n",
    "    print(answer)"
   ]
  },
  {
   "cell_type": "code",
   "execution_count": 13,
   "metadata": {},
   "outputs": [
    {
     "output_type": "stream",
     "name": "stdout",
     "text": [
      "Give me two numbers. and I'll divide them.\n",
      "Enter q to quit.\n",
      "You can't divide by 0!\n"
     ]
    }
   ],
   "source": [
    "print(\"Give me two numbers. and I'll divide them.\")\n",
    "print(\"Enter q to quit.\")\n",
    "\n",
    "while True:\n",
    "    first_number=input(\"\\nFirst Number:\")\n",
    "    if first_number=='q':\n",
    "        break\n",
    "\n",
    "    second_number=input(\"\\n Second Number:\")\n",
    "    if second_number=='q':\n",
    "        break\n",
    "    \n",
    "    try:\n",
    "        answer=int(first_number)/int(second_number)\n",
    "    except ZeroDivisionError:\n",
    "        print(\"You can't divide by 0!\")\n",
    "    else:\n",
    "        print(answer)\n",
    "\n",
    "# Any code that depends on the tryblock executing successfully goes in the else block"
   ]
  },
  {
   "cell_type": "code",
   "execution_count": 14,
   "metadata": {},
   "outputs": [
    {
     "output_type": "error",
     "ename": "FileNotFoundError",
     "evalue": "[Errno 2] No such file or directory: 'alice.txt'",
     "traceback": [
      "\u001b[1;31m---------------------------------------------------------------------------\u001b[0m",
      "\u001b[1;31mFileNotFoundError\u001b[0m                         Traceback (most recent call last)",
      "\u001b[1;32m<ipython-input-14-911eb9236302>\u001b[0m in \u001b[0;36m<module>\u001b[1;34m\u001b[0m\n\u001b[0;32m      4\u001b[0m \u001b[1;33m\u001b[0m\u001b[0m\n\u001b[0;32m      5\u001b[0m \u001b[0mfilename\u001b[0m \u001b[1;33m=\u001b[0m\u001b[1;34m'alice.txt'\u001b[0m\u001b[1;33m\u001b[0m\u001b[1;33m\u001b[0m\u001b[0m\n\u001b[1;32m----> 6\u001b[1;33m \u001b[1;32mwith\u001b[0m \u001b[0mopen\u001b[0m\u001b[1;33m(\u001b[0m\u001b[0mfilename\u001b[0m\u001b[1;33m)\u001b[0m \u001b[1;32mas\u001b[0m \u001b[0mf_obj\u001b[0m\u001b[1;33m:\u001b[0m\u001b[1;33m\u001b[0m\u001b[1;33m\u001b[0m\u001b[0m\n\u001b[0m\u001b[0;32m      7\u001b[0m     \u001b[0mcontents\u001b[0m\u001b[1;33m=\u001b[0m\u001b[0mf_obj\u001b[0m\u001b[1;33m.\u001b[0m\u001b[0mread\u001b[0m\u001b[1;33m(\u001b[0m\u001b[1;33m)\u001b[0m\u001b[1;33m\u001b[0m\u001b[1;33m\u001b[0m\u001b[0m\n",
      "\u001b[1;31mFileNotFoundError\u001b[0m: [Errno 2] No such file or directory: 'alice.txt'"
     ]
    }
   ],
   "source": [
    "# Handling the fileNotFoundError Exception\n",
    "\n",
    "# alice.py \n",
    "\n",
    "filename ='alice.txt'\n",
    "with open(filename) as f_obj:\n",
    "    contents=f_obj.read()"
   ]
  },
  {
   "cell_type": "code",
   "execution_count": 15,
   "metadata": {},
   "outputs": [
    {
     "output_type": "stream",
     "name": "stdout",
     "text": [
      "Sorry, the file alice.txt doesn't exist\n"
     ]
    }
   ],
   "source": [
    "filename ='alice.txt'\n",
    "try:\n",
    "    with open(filename) as f_obj:\n",
    "        contents=f_obj.read()\n",
    "except FileNotFoundError:\n",
    "    msg=\"Sorry, the file \"+filename+\" doesn't exist\"\n",
    "    print(msg)"
   ]
  },
  {
   "source": [
    "### Analyzing Text"
   ],
   "cell_type": "markdown",
   "metadata": {}
  },
  {
   "cell_type": "code",
   "execution_count": 1,
   "metadata": {},
   "outputs": [
    {
     "output_type": "execute_result",
     "data": {
      "text/plain": [
       "['Alice', 'in', 'WonderLand']"
      ]
     },
     "metadata": {},
     "execution_count": 1
    }
   ],
   "source": [
    "title=\"Alice in WonderLand\"\n",
    "title.split()\n",
    "\n",
    "# split() method seperates a string into parts wherever it finds a space and stores al the parts of the string into a list."
   ]
  },
  {
   "cell_type": "code",
   "execution_count": 2,
   "metadata": {},
   "outputs": [
    {
     "output_type": "stream",
     "name": "stdout",
     "text": [
      "The file alice.txt has about 29461 words.\n"
     ]
    }
   ],
   "source": [
    "filename ='alice.txt'\n",
    "try:\n",
    "    with open(filename) as f_obj:\n",
    "        contents=f_obj.read()\n",
    "except FileNotFoundError:\n",
    "    msg=\"Sorry, the file \"+filename+\" doesn't exist\"\n",
    "    print(msg)\n",
    "else:\n",
    "    #count the approximate number of words in the file\n",
    "    words=contents.split()\n",
    "    num_words=len(words)\n",
    "    print(\"The file \"+filename+\" has about \"+str(num_words)+\" words.\")"
   ]
  },
  {
   "source": [
    "### working with multiple  files\n"
   ],
   "cell_type": "markdown",
   "metadata": {}
  },
  {
   "cell_type": "code",
   "execution_count": 4,
   "metadata": {},
   "outputs": [
    {
     "output_type": "stream",
     "name": "stdout",
     "text": [
      "The file alice.txt has about 29461 words.\n"
     ]
    }
   ],
   "source": [
    "def count_words(filename):\n",
    "    \"\"\"Count the approximate number of words in a file.\"\"\"\n",
    "    try:\n",
    "        with open(filename) as f_obj:\n",
    "            contents=f_obj.read()\n",
    "    except FileNotFoundError:\n",
    "        msg=\"Sorry, the file \"+filename+\" doesn't exist\"\n",
    "        print(msg)\n",
    "    else:\n",
    "        #count the approximate number of words in the file\n",
    "        words=contents.split()\n",
    "        num_words=len(words)\n",
    "        print(\"The file \"+filename+\" has about \"+str(num_words)+\" words.\")\n",
    "\n",
    "filename='alice.txt'\n",
    "count_words(filename)\n"
   ]
  },
  {
   "cell_type": "code",
   "execution_count": 5,
   "metadata": {},
   "outputs": [
    {
     "output_type": "stream",
     "name": "stdout",
     "text": [
      "The file alice.txt has about 29461 words.\nThe file programming.txt has about 26 words.\nSorry, the file hello.txt doesn't exist\n"
     ]
    }
   ],
   "source": [
    "def count_words(filename):\n",
    "    \"\"\"Count the approximate number of words in a file.\"\"\"\n",
    "    try:\n",
    "        with open(filename) as f_obj:\n",
    "            contents=f_obj.read()\n",
    "    except FileNotFoundError:\n",
    "        msg=\"Sorry, the file \"+filename+\" doesn't exist\"\n",
    "        print(msg)\n",
    "    else:\n",
    "        #count the approximate number of words in the file\n",
    "        words=contents.split()\n",
    "        num_words=len(words)\n",
    "        print(\"The file \"+filename+\" has about \"+str(num_words)+\" words.\")\n",
    "\n",
    "filenames=['alice.txt','programming.txt','hello.txt']\n",
    "\n",
    "for filename in filenames:\n",
    "    count_words(filename)"
   ]
  },
  {
   "source": [
    "### Storing Data\n",
    "\n",
    "- a simple way to store data is by using the json module\n",
    "\n",
    "- json (Javascript Object Notation) format was originally developed for javascript. However, it has since become a common format used by many languages"
   ],
   "cell_type": "markdown",
   "metadata": {}
  },
  {
   "cell_type": "code",
   "execution_count": 8,
   "metadata": {},
   "outputs": [],
   "source": [
    "# Using json.dump() and json.load()\n",
    "\n",
    "#number_writer.py\n",
    "import json\n",
    "numbers=[2,3,5,7,11,13]\n",
    "\n",
    "filename='numbers.json'\n",
    "with open(filename,'w') as f_obj:\n",
    "    json.dump(numbers,f_obj)\n",
    "\n",
    "# we first import the json module and then create a list of numbers to work with. \n",
    "# we choose a filename in vhich we store the list of  numbers\n",
    "# extension .json is used to incidicate that the data in the file is stored in the JSON format. \n",
    "# then we open the file in write mode, which allows json to write the data to the file\n",
    "# json.dump() function is used to store the list of numbers in the file numbers.json"
   ]
  },
  {
   "cell_type": "code",
   "execution_count": 9,
   "metadata": {},
   "outputs": [
    {
     "output_type": "stream",
     "name": "stdout",
     "text": [
      "[2, 3, 5, 7, 11, 13]\n"
     ]
    }
   ],
   "source": [
    "#json.load()\n",
    "\n",
    "filename='numbers.json'\n",
    "with open(filename) as f_obj:\n",
    "    numbers=json.load(f_obj)\n",
    "\n",
    "print(numbers)\n",
    "\n",
    "# we opened the file that we wrote above in read mode. \n",
    "# json.load() function to load the information stored in numbers.json and we store it in the variable numbers. \n"
   ]
  },
  {
   "cell_type": "code",
   "execution_count": 12,
   "metadata": {},
   "outputs": [
    {
     "output_type": "stream",
     "name": "stdout",
     "text": [
      "we'll remeber you when you comeback, Prasmit Neupane!\n"
     ]
    }
   ],
   "source": [
    "# Saving and Reading User-Generated Data\n",
    "\n",
    "import json\n",
    "\n",
    "username =input(\"What is your name?\")\n",
    "\n",
    "filename='username.json'\n",
    "\n",
    "with open(filename,'w') as f_obj:\n",
    "    json.dump(username,f_obj)\n",
    "    print(\"we'll remeber you when you comeback, \"+username+\"!\")\n"
   ]
  },
  {
   "cell_type": "code",
   "execution_count": 13,
   "metadata": {},
   "outputs": [
    {
     "output_type": "stream",
     "name": "stdout",
     "text": [
      "Welcome back, Prasmit Neupane!\n"
     ]
    }
   ],
   "source": [
    "import json\n",
    "\n",
    "filename='username.json'\n",
    "\n",
    "with open(filename) as f_obj:\n",
    "    username=json.load(f_obj)\n",
    "    print(\"Welcome back, \"+username+\"!\")"
   ]
  },
  {
   "cell_type": "code",
   "execution_count": 14,
   "metadata": {},
   "outputs": [
    {
     "output_type": "stream",
     "name": "stdout",
     "text": [
      "Welcome back, Prasmit Neupane!\n"
     ]
    }
   ],
   "source": [
    "# combining above 2 program \n",
    "\n",
    "import json\n",
    "\n",
    "# load the username , if it has been stored previously. \n",
    "# Otherwise, prompt for the username and store it. \n",
    "\n",
    "filename='username.json'\n",
    "\n",
    "try:\n",
    "    with open(filename) as f_obj:\n",
    "        username=json.load(f_obj)\n",
    "except FileNotFoundError:\n",
    "    username=input(\"What is your name?\")\n",
    "    with open(filenames,'w') as f_obj:\n",
    "        json.dump(username,f_obj)\n",
    "        print(\"We'll remeber you when you come back, \"+ username+\"!\")\n",
    "else:\n",
    "    print(\"Welcome back, \"+username+\"!\")"
   ]
  },
  {
   "source": [
    "### Refactoring\n",
    "\n",
    "- improving the code by breaking it up into a series of function that have specific jobs is called refactoring.\n"
   ],
   "cell_type": "markdown",
   "metadata": {}
  },
  {
   "cell_type": "code",
   "execution_count": 16,
   "metadata": {},
   "outputs": [
    {
     "output_type": "stream",
     "name": "stdout",
     "text": [
      "Welcome back, Prasmit Neupane!\n"
     ]
    }
   ],
   "source": [
    "import json\n",
    "\n",
    "def greet_user():\n",
    "    \"\"\"Greet the user by name.\"\"\"\n",
    "    filename='username.json'\n",
    "\n",
    "    try:\n",
    "        with open(filename) as f_obj:\n",
    "            username=json.load(f_obj)\n",
    "    except FileNotFoundError:\n",
    "        username=input(\"What is your name?\")\n",
    "        with open(filenames,'w') as f_obj:\n",
    "            json.dump(username,f_obj)\n",
    "            print(\"We'll remeber you when you come back, \"+ username+\"!\")\n",
    "    else:\n",
    "        print(\"Welcome back, \"+username+\"!\")\n",
    "\n",
    "greet_user()"
   ]
  },
  {
   "cell_type": "code",
   "execution_count": 4,
   "metadata": {},
   "outputs": [
    {
     "output_type": "stream",
     "name": "stdout",
     "text": [
      "Welcome back, Prasmit Neupane!\n"
     ]
    }
   ],
   "source": [
    "# making a seperate function:\n",
    "\n",
    "import json\n",
    "\n",
    "def get_stored_username():\n",
    "    \"\"\"Get stored usesrname if available\"\"\"\n",
    "    filename=\"username.json\"\n",
    "    try:\n",
    "        with open(filename) as f_obj:\n",
    "            username=json.load(f_obj)\n",
    "    except FileNotFoundError:\n",
    "        return None\n",
    "    else:\n",
    "        return username\n",
    "    \n",
    "def greet_user():\n",
    "    \"\"\"Greet the user by name.\"\"\"\n",
    "    username=get_stored_username()\n",
    "    if username:\n",
    "        print(\"Welcome back, \"+ username+\"!\")\n",
    "    else:\n",
    "        username=input(\"What is your name?\")\n",
    "        filename='username.json'\n",
    "        with open(filenames,'w') as f_obj:\n",
    "            json.dump(username,f_obj)\n",
    "            print(\"We'll remeber you when you come back, \"+ username+\"!\")\n",
    "\n",
    "greet_user()\n"
   ]
  },
  {
   "cell_type": "code",
   "execution_count": 5,
   "metadata": {},
   "outputs": [
    {
     "output_type": "stream",
     "name": "stdout",
     "text": [
      "Welcome back, Prasmit Neupane!\n"
     ]
    }
   ],
   "source": [
    "import json\n",
    "\n",
    "def get_stored_username():\n",
    "    \"\"\"Get stored usesrname if available\"\"\"\n",
    "    filename=\"username.json\"\n",
    "    try:\n",
    "        with open(filename) as f_obj:\n",
    "            username=json.load(f_obj)\n",
    "    except FileNotFoundError:\n",
    "        return None\n",
    "    else:\n",
    "        return username\n",
    "\n",
    "def get_new_username():\n",
    "    \"\"\"Prompt for a new username.\"\"\"\n",
    "    username=input(\"What is your name?\")\n",
    "    filename='username.json'\n",
    "    with open(filenames,'w') as f_obj:\n",
    "        json.dump(username,f_obj)\n",
    "    \n",
    "    return username\n",
    "\n",
    "def greet_user():\n",
    "    \"\"\"Greet the user by name.\"\"\"\n",
    "    username=get_stored_username()\n",
    "    if username:\n",
    "        print(\"Welcome back, \"+ username+\"!\")\n",
    "    else:\n",
    "        username=get_new_username()\n",
    "        print(\"We'll remeber you when you come back, \"+ username+\"!\")\n",
    "\n",
    "greet_user()\n"
   ]
  },
  {
   "cell_type": "code",
   "execution_count": null,
   "metadata": {},
   "outputs": [],
   "source": []
  }
 ]
}